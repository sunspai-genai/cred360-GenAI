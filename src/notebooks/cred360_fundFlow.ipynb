{
 "cells": [
  {
   "cell_type": "markdown",
   "metadata": {},
   "source": [
    "### Import Libraries"
   ]
  },
  {
   "cell_type": "code",
   "execution_count": 1,
   "metadata": {},
   "outputs": [],
   "source": [
    "import os\n",
    "from textwrap import dedent\n",
    "from dotenv import load_dotenv\n",
    "import pandas as pd\n",
    "from typing_extensions import TypedDict\n",
    "\n",
    "from langgraph.graph import StateGraph\n",
    "from langchain_openai import AzureChatOpenAI\n",
    "from langchain_ollama import ChatOllama\n",
    "from langchain_google_genai import ChatGoogleGenerativeAI\n",
    "from langchain_core.prompts import ChatPromptTemplate\n",
    "from langchain_core.output_parsers import StrOutputParser\n",
    "\n",
    "# Load environment variables\n",
    "from dotenv import load_dotenv, find_dotenv\n",
    "load_dotenv(find_dotenv(), verbose=True, override=True)\n",
    "\n",
    "# Load environment variables\n",
    "load_dotenv()\n",
    "\n",
    "os.environ[\"AZURE_API_KEY\"] = os.getenv(\"AZURE_OPENAI_API_KEY\")\n",
    "os.environ[\"AZURE_ENDPOINT\"] = os.getenv(\"AZURE_ENDPOINT\")\n",
    "os.environ[\"AZURE_API_VERSION\"] = os.getenv(\"AZURE_OPENAI_API_VERSION\") \n",
    "os.environ[\"GEMINI_API_KEY\"] = os.getenv(\"GEMINI_API_KEY\")"
   ]
  },
  {
   "cell_type": "markdown",
   "metadata": {},
   "source": [
    "### Generate Markdown file for Fund Flow"
   ]
  },
  {
   "cell_type": "code",
   "execution_count": 2,
   "metadata": {},
   "outputs": [],
   "source": [
    "def extract_text_from_excel(file, sheetnames):\n",
    "    if len(sheetnames)>0:\n",
    "        for sheet in sheetnames:\n",
    "            df = pd.read_excel(file, engine='openpyxl', sheet_name=sheet)\n",
    "            df_cleaned = df.dropna(how='all')\n",
    "            df2 = df_cleaned.fillna('').reset_index(drop=True)\n",
    "            with open(\"../data/processed_inputs/fundflow.md\", \"a\") as f:\n",
    "                f.write(f\"\"\"##### {sheet} \\n{str(df2.to_markdown())}\\n\"\"\")\n",
    "                # f.write(str(df2.to_markdown()))\n",
    "    else:\n",
    "        print(\"SheetNames not provided\")"
   ]
  },
  {
   "cell_type": "code",
   "execution_count": 3,
   "metadata": {},
   "outputs": [],
   "source": [
    "file_path = '../data/1. CMA_Data.xlsx'\n",
    "extract_text_from_excel(file_path,sheetnames=['Fund Flow','Fund Flow2'])"
   ]
  },
  {
   "cell_type": "markdown",
   "metadata": {},
   "source": [
    "### Define the LangGraph Agent for FundFlow Analyzer"
   ]
  },
  {
   "cell_type": "code",
   "execution_count": 4,
   "metadata": {},
   "outputs": [],
   "source": [
    "# Define the AgentState class for BalanceSheet Analyzer\n",
    "class AgentState(TypedDict):\n",
    "    question: str\n",
    "    fundflow_data: str\n",
    "    result: str\n",
    "\n",
    "def fundflow_analyzer_agent(state: AgentState):\n",
    "    \"\"\"\n",
    "    Financial Analyzer Agent takes input questions and responds to the user's questions by processing the data provided.\n",
    "\n",
    "    Returns:\n",
    "    dict: The response from the LLM.\n",
    "    \"\"\"\n",
    "    # Input User Question\n",
    "    question = state[\"question\"]\n",
    "\n",
    "    with open(\"../data/processed_inputs/fundflow.md\", \"r\") as f:\n",
    "        state['fundflow_data'] = f.read()\n",
    "\n",
    "\n",
    "    fundflow_data = state['fundflow_data']\n",
    "\n",
    "    if fundflow_data is None:\n",
    "        print(\"Failed to extract text from the image.\")\n",
    "        return {\"error\": \"Failed to extract text from the image.\"}\n",
    "    \n",
    "\n",
    "    system = dedent(\"\"\"\n",
    "        You are a financial analyst reviewing a company's fund flow data.\n",
    "        Analyze the provided Fund Flow Statement to assess financial health. Focus on:\n",
    "        Net Cash Flow: Positive/Negative? Implications?\n",
    "        Operating Cash Flow: Income conversion to cash?\n",
    "        Investing Cash Flow: Capital expenditures/asset sales?\n",
    "        Financing Cash Flow: Debt/Equity/Dividends?\n",
    "        Liquidity: Cash & Equivalents - Short-term obligations?\n",
    "        Working Capital: Changes in A/R, Inventory, A/P - Impact?\n",
    "        Free Cash Flow: Cash generation after capital expenditures?\n",
    "        Debt Service: Ability to meet obligations?\n",
    "        Cash Flow from Operations vs. Net Income: Discrepancies?\n",
    "        For each, explain its importance and implications for decision-making.\n",
    "        \"\"\")\n",
    "\n",
    "    prompt = ChatPromptTemplate.from_messages(\n",
    "        [\n",
    "            (\"system\", system),\n",
    "            (\"human\", f\"Fund Flow Data: {fundflow_data}\"),\n",
    "            (\"human\", f\"Question: {question}\"),\n",
    "        ]\n",
    "    )\n",
    "\n",
    "    # Initialize the LLM\n",
    "    llm = AzureChatOpenAI(\n",
    "        model=\"gpt-4o-mini\",\n",
    "        api_key=os.getenv(\"AZURE_OPENAI_API_KEY\"),\n",
    "        azure_endpoint=os.getenv(\"AZURE_ENDPOINT\"),\n",
    "        api_version=os.getenv(\"AZURE_API_VERSION\"),\n",
    "        temperature=0\n",
    "    )\n",
    "\n",
    "    balancesheet_analyst = prompt | llm | StrOutputParser()\n",
    "\n",
    "    result = balancesheet_analyst.invoke({\"question\": question, \"fundflow_data\": fundflow_data})\n",
    "    state[\"result\"] = result\n",
    "    return state\n",
    "\n",
    "workflow = StateGraph(AgentState)\n",
    "\n",
    "workflow.add_node(\"fundflow_analyzer_node\", fundflow_analyzer_agent)\n",
    "\n",
    "workflow.set_entry_point(\"fundflow_analyzer_node\")\n",
    "\n",
    "app = workflow.compile()\n"
   ]
  },
  {
   "cell_type": "markdown",
   "metadata": {},
   "source": [
    "### User Questions"
   ]
  },
  {
   "cell_type": "code",
   "execution_count": 5,
   "metadata": {},
   "outputs": [
    {
     "name": "stdout",
     "output_type": "stream",
     "text": [
      "To determine the company's net cash flow, we need to analyze the \"Total Funds Available\" and \"Total Funds Used\" from the Fund Flow Statement.\n",
      "\n",
      "From the provided data:\n",
      "\n",
      "- **Total Funds Available** (Row 23 of Fund Flow 1): \n",
      "  - For the year ended 31.03.2023: Rs. 248.81 lacs\n",
      "  - For the year ending 31.03.2024: Rs. 254.47 lacs\n",
      "  - For the year ending 31.03.2025: Rs. 272.58 lacs\n",
      "  - For the year ending 31.03.2026: Rs. 291.37 lacs\n",
      "  - For the year ending 31.03.2027: Rs. 314.77 lacs\n",
      "  - For the year ending 31.03.2028: Rs. 337.14 lacs\n",
      "  - For the year ending 31.03.2029: Rs. 358.03 lacs\n",
      "\n",
      "- **Total Funds Used** (Row 23 of Fund Flow 2):\n",
      "  - For the year ended 31.03.2023: Rs. 256.81 lacs\n",
      "  - For the year ending 31.03.2024: Rs. 262.47 lacs\n",
      "  - For the year ending 31.03.2025: Rs. 280.58 lacs\n",
      "  - For the year ending 31.03.2026: Rs. 299.37 lacs\n",
      "  - For the year ending 31.03.2027: Rs. 318.10 lacs\n",
      "  - For the year ending 31.03.2028: Rs. 337.14 lacs\n",
      "  - For the year ending 31.03.2029: Rs. 358.03 lacs\n",
      "\n",
      "### Net Cash Flow Calculation:\n",
      "- For the year ended 31.03.2023: \n",
      "  - Net Cash Flow = Total Funds Available - Total Funds Used\n",
      "  - Net Cash Flow = Rs. 248.81 lacs - Rs. 256.81 lacs = **- Rs. 8.00 lacs** (Negative)\n",
      "\n",
      "- For the year ending 31.03.2024:\n",
      "  - Net Cash Flow = Rs. 254.47 lacs - Rs. 262.47 lacs = **- Rs. 8.00 lacs** (Negative)\n",
      "\n",
      "- For the year ending 31.03.2025:\n",
      "  - Net Cash Flow = Rs. 272.58 lacs - Rs. 280.58 lacs = **- Rs. 8.00 lacs** (Negative)\n",
      "\n",
      "- For the year ending 31.03.2026:\n",
      "  - Net Cash Flow = Rs. 291.37 lacs - Rs. 299.37 lacs = **- Rs. 8.00 lacs** (Negative)\n",
      "\n",
      "- For the year ending 31.03.2027:\n",
      "  - Net Cash Flow = Rs. 314.77 lacs - Rs. 318.10 lacs = **- Rs. 3.33 lacs** (Negative)\n",
      "\n",
      "- For the year ending 31.03.2028:\n",
      "  - Net Cash Flow = Rs. 337.14 lacs - Rs. 337.14 lacs = **0 lacs** (Break-even)\n",
      "\n",
      "- For the year ending 31.03.2029:\n",
      "  - Net Cash Flow = Rs. 358.03 lacs - Rs. 358.03 lacs = **0 lacs** (Break-even)\n",
      "\n",
      "### Implications of Negative Net Cash Flow:\n",
      "1. **Liquidity Concerns**: A consistent negative net cash flow indicates that the company is spending more cash than it is generating. This can lead to liquidity issues, making it difficult to meet short-term obligations.\n",
      "\n",
      "2. **Operational Efficiency**: The company may need to assess its operational efficiency. Negative cash flow could suggest that the company is not converting its sales into cash effectively, which may require a review of accounts receivable and inventory management.\n",
      "\n",
      "3. **Financing Needs**: The company may need to rely on external financing (debt or equity) to cover its cash shortfalls. This could increase financial leverage and interest obligations, impacting profitability.\n",
      "\n",
      "4. **Investment Capability**: Negative cash flow limits the company's ability to invest in growth opportunities, such as capital expenditures or new projects, which could hinder long-term growth.\n",
      "\n",
      "5. **Stakeholder Confidence**: Persistent negative cash flow can erode stakeholder confidence, including investors, creditors, and employees, potentially affecting the company's market position and valuation.\n",
      "\n",
      "In summary, the company is experiencing negative net cash flow, which poses significant risks to its financial health and operational sustainability. It is crucial for management to address these issues promptly to ensure long-term viability.\n"
     ]
    }
   ],
   "source": [
    "user_question_1 = \"Determine whether the company has a positive or negative net cash flow and the implications of this for the business.\"\n",
    "result = app.invoke({\"question\": user_question_1})\n",
    "print(result[\"result\"])"
   ]
  },
  {
   "cell_type": "code",
   "execution_count": 24,
   "metadata": {},
   "outputs": [
    {
     "name": "stdout",
     "output_type": "stream",
     "text": [
      "To assess how much cash was generated or used by the company's core operating activities, we need to focus on the \"Operating Cash Flow\" section of the Fund Flow Statement. This typically includes the profit before tax, adjustments for non-cash items (like depreciation), and changes in working capital (like accounts receivable, inventory, and accounts payable).\n",
      "\n",
      "From the provided data, we can see the following relevant figures:\n",
      "\n",
      "1. **Profit Before Tax**: \n",
      "   - For the year ended 31.03.2023: Rs. 95.16 lacs\n",
      "\n",
      "2. **Add: Depreciation**: \n",
      "   - For the year ended 31.03.2023: Rs. 162.23 lacs\n",
      "\n",
      "3. **Less: Taxes Paid/Payable**: \n",
      "   - For the year ended 31.03.2023: Rs. 9.22 lacs\n",
      "\n",
      "4. **Net Funds Generated**: \n",
      "   - For the year ended 31.03.2023: Rs. 248.17 lacs\n",
      "\n",
      "### Calculation of Operating Cash Flow:\n",
      "Operating Cash Flow can be calculated as follows:\n",
      "\n",
      "\\[\n",
      "\\text{Operating Cash Flow} = \\text{Profit Before Tax} + \\text{Depreciation} - \\text{Taxes Paid}\n",
      "\\]\n",
      "\n",
      "Substituting the values:\n",
      "\n",
      "\\[\n",
      "\\text{Operating Cash Flow} = 95.16 + 162.23 - 9.22 = 248.17 \\text{ lacs}\n",
      "\\]\n",
      "\n",
      "### Conclusion:\n",
      "The cash generated by the company's core operating activities for the year ended 31.03.2023 is **Rs. 248.17 lacs**. \n",
      "\n",
      "### Importance and Implications:\n",
      "- **Positive Operating Cash Flow**: This indicates that the company is generating sufficient cash from its core operations, which is crucial for sustaining operations, funding growth, and meeting obligations.\n",
      "- **Cash Conversion**: A strong operating cash flow suggests effective management of receivables and payables, indicating that the company is converting a significant portion of its income into cash.\n",
      "- **Decision-Making**: Investors and management can use this information to assess the company's operational efficiency and financial health. A consistent positive operating cash flow can lead to increased investor confidence and potential for reinvestment in the business.\n"
     ]
    }
   ],
   "source": [
    "user_question_2 = \"How much cash generated or used by the company's core operating activities?\"\n",
    "result = app.invoke({\"question\": user_question_2})\n",
    "print(result[\"result\"])"
   ]
  },
  {
   "cell_type": "code",
   "execution_count": 25,
   "metadata": {},
   "outputs": [
    {
     "name": "stdout",
     "output_type": "stream",
     "text": [
      "To calculate the net fund flow for the years 2022 to 2025, we need to look at the \"SURPLUS (+) / SHORTFALL (-)\" row from the Fund Flow Statement for those specific years.\n",
      "\n",
      "From the provided data, the surplus/shortfall for the years 2022 to 2025 is as follows:\n",
      "\n",
      "- **2022**: 113.88 lacs\n",
      "- **2023**: 119.76 lacs\n",
      "- **2024**: 138.11 lacs\n",
      "- **2025**: 156.87 lacs\n",
      "\n",
      "Now, we can sum these values to find the total net fund flow from 2022 to 2025:\n",
      "\n",
      "\\[\n",
      "\\text{Net Fund Flow} = 113.88 + 119.76 + 138.11 + 156.87\n",
      "\\]\n",
      "\n",
      "Calculating this gives:\n",
      "\n",
      "\\[\n",
      "\\text{Net Fund Flow} = 628.62 \\text{ lacs}\n",
      "\\]\n",
      "\n",
      "Thus, the net fund flow for the years 2022 to 2025 is **628.62 lacs**.\n"
     ]
    }
   ],
   "source": [
    "user_question_3 = \"What is the net fund flow for the between 2022 - 2025?\"\n",
    "result = app.invoke({\"question\": user_question_3})\n",
    "print(result[\"result\"])"
   ]
  },
  {
   "cell_type": "code",
   "execution_count": 26,
   "metadata": {},
   "outputs": [
    {
     "name": "stdout",
     "output_type": "stream",
     "text": [
      "The provided fund flow data does not include a specific year labeled as \"2020.\" The data appears to cover the years ending on March 31st from 2023 to 2029. Therefore, it is not possible to determine the net fund flow for the year 2020 based on the information given. \n",
      "\n",
      "If you have data for the year 2020 or if you meant a different year, please provide that information for further analysis.\n"
     ]
    }
   ],
   "source": [
    "user_question_4 = \"What is the net fund flow for the year 2020?\"\n",
    "result = app.invoke({\"question\": user_question_4})\n",
    "print(result[\"result\"])"
   ]
  },
  {
   "cell_type": "code",
   "execution_count": 27,
   "metadata": {},
   "outputs": [
    {
     "name": "stdout",
     "output_type": "stream",
     "text": [
      "To determine whether there is a surplus or deficit in the fund flow, we can analyze the \"SURPLUS (+) / SHORTFALL (-)\" rows from the provided data.\n",
      "\n",
      "### Analysis of Surplus/Shortfall:\n",
      "\n",
      "1. **Long Term Sources vs. Long Term Uses**:\n",
      "   - Long Term Sources: \n",
      "     - 31.03.2023: 248.17 lacs\n",
      "     - 2024: 254.05 lacs\n",
      "     - 2025: 272.40 lacs\n",
      "     - 2026: 291.16 lacs\n",
      "     - 2027: 314.57 lacs\n",
      "     - 2028: 337.14 lacs\n",
      "     - 2029: 358.03 lacs\n",
      "   - Long Term Uses:\n",
      "     - 31.03.2023: 134.29 lacs\n",
      "     - 2024: 134.29 lacs\n",
      "     - 2025: 134.29 lacs\n",
      "     - 2026: 134.29 lacs\n",
      "     - 2027: 134.29 lacs\n",
      "     - 2028: 123.07 lacs\n",
      "     - 2029: 0 lacs\n",
      "\n",
      "   - **Surplus Calculation**:\n",
      "     - 31.03.2023: 248.17 - 134.29 = 113.88 lacs (Surplus)\n",
      "     - 2024: 254.05 - 134.29 = 119.76 lacs (Surplus)\n",
      "     - 2025: 272.40 - 134.29 = 138.11 lacs (Surplus)\n",
      "     - 2026: 291.16 - 134.29 = 156.87 lacs (Surplus)\n",
      "     - 2027: 314.57 - 134.29 = 180.28 lacs (Surplus)\n",
      "     - 2028: 337.14 - 123.07 = 214.07 lacs (Surplus)\n",
      "     - 2029: 358.03 - 0 = 358.03 lacs (Surplus)\n",
      "\n",
      "2. **Short Term Sources vs. Short Term Uses**:\n",
      "   - Short Term Sources:\n",
      "     - 31.03.2023: 0.64 lacs\n",
      "     - 2024: 0.42 lacs\n",
      "     - 2025: 0.18 lacs\n",
      "     - 2026: 0.21 lacs\n",
      "     - 2027: 0.20 lacs\n",
      "     - 2028: 0 lacs\n",
      "     - 2029: 0 lacs\n",
      "   - Short Term Uses:\n",
      "     - 31.03.2023: 122.52 lacs\n",
      "     - 2024: 128.18 lacs\n",
      "     - 2025: 146.29 lacs\n",
      "     - 2026: 165.08 lacs\n",
      "     - 2027: 183.81 lacs\n",
      "     - 2028: 214.07 lacs\n",
      "     - 2029: 358.03 lacs\n",
      "\n",
      "   - **Shortfall Calculation**:\n",
      "     - 31.03.2023: 0.64 - 122.52 = -121.88 lacs (Shortfall)\n",
      "     - 2024: 0.42 - 128.18 = -127.76 lacs (Shortfall)\n",
      "     - 2025: 0.18 - 146.29 = -146.11 lacs (Shortfall)\n",
      "     - 2026: 0.21 - 165.08 = -164.87 lacs (Shortfall)\n",
      "     - 2027: 0.20 - 183.81 = -183.61 lacs (Shortfall)\n",
      "     - 2028: 0 - 214.07 = -214.07 lacs (Shortfall)\n",
      "     - 2029: 0 - 358.03 = -358.03 lacs (Shortfall)\n",
      "\n",
      "### Conclusion:\n",
      "- **Long Term**: There is a consistent surplus in long-term funds, indicating that the company is generating more funds than it is using in the long term.\n",
      "- **Short Term**: There is a significant shortfall in short-term funds, indicating that the company may struggle to meet its short-term obligations.\n",
      "\n",
      "### Overall Assessment:\n",
      "The company has a strong long-term financial position but faces challenges in managing its short-term liquidity. This discrepancy suggests that while the company is generating sufficient long-term funds, it may need to address its short-term funding strategies to ensure it can meet its immediate obligations. This could involve improving cash flow management, reducing short-term liabilities, or increasing short-term financing options.\n"
     ]
    }
   ],
   "source": [
    "user_question_5 = \"Is there a surplus or deficit in the fund flow?\"\n",
    "result = app.invoke({\"question\": user_question_5})\n",
    "print(result[\"result\"])"
   ]
  },
  {
   "cell_type": "code",
   "execution_count": 28,
   "metadata": {},
   "outputs": [
    {
     "name": "stdout",
     "output_type": "stream",
     "text": [
      "Based on the provided Fund Flow Statement, there is no explicit entry for capital expenditures (CapEx) listed in the \"USES\" section. The line for \"Increase in Fixed Assets\" shows a value of 0 for all periods, indicating that there were no capital expenditures during the reported years.\n",
      "\n",
      "Therefore, the amount spent on capital expenditures (CapEx) is **Rs. 0 lacs** for the periods shown in the statement.\n"
     ]
    }
   ],
   "source": [
    "user_question_6 = \"How much was spent on capital expenditures (CapEx)?\"\n",
    "result = app.invoke({\"question\": user_question_6})\n",
    "print(result[\"result\"])"
   ]
  }
 ],
 "metadata": {
  "kernelspec": {
   "display_name": ".venv",
   "language": "python",
   "name": "python3"
  },
  "language_info": {
   "codemirror_mode": {
    "name": "ipython",
    "version": 3
   },
   "file_extension": ".py",
   "mimetype": "text/x-python",
   "name": "python",
   "nbconvert_exporter": "python",
   "pygments_lexer": "ipython3",
   "version": "3.12.4"
  }
 },
 "nbformat": 4,
 "nbformat_minor": 2
}
